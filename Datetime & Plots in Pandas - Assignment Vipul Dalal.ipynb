{
 "cells": [
  {
   "cell_type": "code",
   "execution_count": 1,
   "id": "1e7c78e8",
   "metadata": {},
   "outputs": [],
   "source": [
    "import numpy as np\n",
    "import pandas as pd\n",
    "import matplotlib.pyplot as plt"
   ]
  },
  {
   "cell_type": "code",
   "execution_count": 2,
   "id": "0a818480",
   "metadata": {},
   "outputs": [
    {
     "data": {
      "text/html": [
       "<div>\n",
       "<style scoped>\n",
       "    .dataframe tbody tr th:only-of-type {\n",
       "        vertical-align: middle;\n",
       "    }\n",
       "\n",
       "    .dataframe tbody tr th {\n",
       "        vertical-align: top;\n",
       "    }\n",
       "\n",
       "    .dataframe thead th {\n",
       "        text-align: right;\n",
       "    }\n",
       "</style>\n",
       "<table border=\"1\" class=\"dataframe\">\n",
       "  <thead>\n",
       "    <tr style=\"text-align: right;\">\n",
       "      <th></th>\n",
       "      <th>Name</th>\n",
       "      <th>YOB</th>\n",
       "      <th>Age</th>\n",
       "      <th>Python</th>\n",
       "      <th>SQL</th>\n",
       "      <th>Statistics</th>\n",
       "    </tr>\n",
       "  </thead>\n",
       "  <tbody>\n",
       "    <tr>\n",
       "      <th>0</th>\n",
       "      <td>Jake</td>\n",
       "      <td>2001</td>\n",
       "      <td>21</td>\n",
       "      <td>100</td>\n",
       "      <td>90</td>\n",
       "      <td>93</td>\n",
       "    </tr>\n",
       "    <tr>\n",
       "      <th>1</th>\n",
       "      <td>Amy</td>\n",
       "      <td>2000</td>\n",
       "      <td>22</td>\n",
       "      <td>90</td>\n",
       "      <td>100</td>\n",
       "      <td>89</td>\n",
       "    </tr>\n",
       "    <tr>\n",
       "      <th>2</th>\n",
       "      <td>Rosa</td>\n",
       "      <td>2001</td>\n",
       "      <td>21</td>\n",
       "      <td>91</td>\n",
       "      <td>91</td>\n",
       "      <td>99</td>\n",
       "    </tr>\n",
       "    <tr>\n",
       "      <th>3</th>\n",
       "      <td>Charles</td>\n",
       "      <td>1990</td>\n",
       "      <td>32</td>\n",
       "      <td>98</td>\n",
       "      <td>92</td>\n",
       "      <td>92</td>\n",
       "    </tr>\n",
       "    <tr>\n",
       "      <th>4</th>\n",
       "      <td>Gina</td>\n",
       "      <td>1999</td>\n",
       "      <td>23</td>\n",
       "      <td>92</td>\n",
       "      <td>98</td>\n",
       "      <td>94</td>\n",
       "    </tr>\n",
       "    <tr>\n",
       "      <th>5</th>\n",
       "      <td>Scully</td>\n",
       "      <td>1995</td>\n",
       "      <td>27</td>\n",
       "      <td>95</td>\n",
       "      <td>95</td>\n",
       "      <td>92</td>\n",
       "    </tr>\n",
       "    <tr>\n",
       "      <th>6</th>\n",
       "      <td>Hitchcock</td>\n",
       "      <td>2001</td>\n",
       "      <td>21</td>\n",
       "      <td>97</td>\n",
       "      <td>93</td>\n",
       "      <td>90</td>\n",
       "    </tr>\n",
       "    <tr>\n",
       "      <th>7</th>\n",
       "      <td>Raymond</td>\n",
       "      <td>1985</td>\n",
       "      <td>37</td>\n",
       "      <td>100</td>\n",
       "      <td>99</td>\n",
       "      <td>98</td>\n",
       "    </tr>\n",
       "  </tbody>\n",
       "</table>\n",
       "</div>"
      ],
      "text/plain": [
       "        Name   YOB  Age  Python  SQL  Statistics\n",
       "0       Jake  2001   21     100   90          93\n",
       "1        Amy  2000   22      90  100          89\n",
       "2       Rosa  2001   21      91   91          99\n",
       "3    Charles  1990   32      98   92          92\n",
       "4       Gina  1999   23      92   98          94\n",
       "5     Scully  1995   27      95   95          92\n",
       "6  Hitchcock  2001   21      97   93          90\n",
       "7    Raymond  1985   37     100   99          98"
      ]
     },
     "execution_count": 2,
     "metadata": {},
     "output_type": "execute_result"
    }
   ],
   "source": [
    "df = pd.DataFrame({'Name':['Jake','Amy','Rosa', 'Charles','Gina','Scully','Hitchcock','Raymond'],\n",
    "     'YOB':[2001, 2000, 2001, 1990, 1999, 1995, 2001,1985],\n",
    "     'Age':[21, 22, 21, 32, 23, 27, 21,37],\n",
    "     'Python':[100,90,91,98,92,95,97,100],\n",
    "     'SQL':[90,100,91,92,98,95,93,99],\n",
    "     'Statistics' :[93,89,99,92,94,92,90,98]})\n",
    "df"
   ]
  },
  {
   "cell_type": "markdown",
   "id": "95dce1a0",
   "metadata": {},
   "source": [
    "# Question 1.) For the above dataset, plot a line plot of people above the age of 24 with three different lines showing marks of 3 different subjects."
   ]
  },
  {
   "cell_type": "code",
   "execution_count": 3,
   "id": "6755a6e6",
   "metadata": {},
   "outputs": [
    {
     "data": {
      "text/html": [
       "<div>\n",
       "<style scoped>\n",
       "    .dataframe tbody tr th:only-of-type {\n",
       "        vertical-align: middle;\n",
       "    }\n",
       "\n",
       "    .dataframe tbody tr th {\n",
       "        vertical-align: top;\n",
       "    }\n",
       "\n",
       "    .dataframe thead th {\n",
       "        text-align: right;\n",
       "    }\n",
       "</style>\n",
       "<table border=\"1\" class=\"dataframe\">\n",
       "  <thead>\n",
       "    <tr style=\"text-align: right;\">\n",
       "      <th></th>\n",
       "      <th>Name</th>\n",
       "      <th>YOB</th>\n",
       "      <th>Age</th>\n",
       "      <th>Python</th>\n",
       "      <th>SQL</th>\n",
       "      <th>Statistics</th>\n",
       "    </tr>\n",
       "  </thead>\n",
       "  <tbody>\n",
       "    <tr>\n",
       "      <th>3</th>\n",
       "      <td>Charles</td>\n",
       "      <td>1990</td>\n",
       "      <td>32</td>\n",
       "      <td>98</td>\n",
       "      <td>92</td>\n",
       "      <td>92</td>\n",
       "    </tr>\n",
       "    <tr>\n",
       "      <th>5</th>\n",
       "      <td>Scully</td>\n",
       "      <td>1995</td>\n",
       "      <td>27</td>\n",
       "      <td>95</td>\n",
       "      <td>95</td>\n",
       "      <td>92</td>\n",
       "    </tr>\n",
       "    <tr>\n",
       "      <th>7</th>\n",
       "      <td>Raymond</td>\n",
       "      <td>1985</td>\n",
       "      <td>37</td>\n",
       "      <td>100</td>\n",
       "      <td>99</td>\n",
       "      <td>98</td>\n",
       "    </tr>\n",
       "  </tbody>\n",
       "</table>\n",
       "</div>"
      ],
      "text/plain": [
       "      Name   YOB  Age  Python  SQL  Statistics\n",
       "3  Charles  1990   32      98   92          92\n",
       "5   Scully  1995   27      95   95          92\n",
       "7  Raymond  1985   37     100   99          98"
      ]
     },
     "execution_count": 3,
     "metadata": {},
     "output_type": "execute_result"
    }
   ],
   "source": [
    "df_Age1 = (df['Age'] > 24)\n",
    "df1 = df[df_Age1]\n",
    "df1.head()"
   ]
  },
  {
   "cell_type": "code",
   "execution_count": 4,
   "id": "17a3bedc",
   "metadata": {},
   "outputs": [
    {
     "data": {
      "image/png": "[encoded data removed]",
      "text/plain": [
       "<Figure size 432x288 with 1 Axes>"
      ]
     },
     "metadata": {
      "needs_background": "light"
     },
     "output_type": "display_data"
    }
   ],
   "source": [
    "ax = plt.gca()\n",
    "\n",
    "df1.plot(kind = 'line', x = 'Name', y = 'Python', color = 'green',ax = ax)\n",
    "df1.plot(kind = 'line',x = 'Name', y = 'Statistics', color = 'blue',ax = ax)\n",
    "df1.plot(kind = 'line',x = 'Name', y = 'SQL', color = 'black',ax = ax)\n",
    "\n",
    "plt.show()"
   ]
  },
  {
   "cell_type": "markdown",
   "id": "d32bbfe7",
   "metadata": {},
   "source": [
    "# Question 2.) Create a pie chart showing the Python marks of people less than the age of 26."
   ]
  },
  {
   "cell_type": "code",
   "execution_count": 5,
   "id": "62f61663",
   "metadata": {},
   "outputs": [
    {
     "data": {
      "text/html": [
       "<div>\n",
       "<style scoped>\n",
       "    .dataframe tbody tr th:only-of-type {\n",
       "        vertical-align: middle;\n",
       "    }\n",
       "\n",
       "    .dataframe tbody tr th {\n",
       "        vertical-align: top;\n",
       "    }\n",
       "\n",
       "    .dataframe thead th {\n",
       "        text-align: right;\n",
       "    }\n",
       "</style>\n",
       "<table border=\"1\" class=\"dataframe\">\n",
       "  <thead>\n",
       "    <tr style=\"text-align: right;\">\n",
       "      <th></th>\n",
       "      <th>Name</th>\n",
       "      <th>YOB</th>\n",
       "      <th>Age</th>\n",
       "      <th>Python</th>\n",
       "      <th>SQL</th>\n",
       "      <th>Statistics</th>\n",
       "    </tr>\n",
       "  </thead>\n",
       "  <tbody>\n",
       "    <tr>\n",
       "      <th>0</th>\n",
       "      <td>Jake</td>\n",
       "      <td>2001</td>\n",
       "      <td>21</td>\n",
       "      <td>100</td>\n",
       "      <td>90</td>\n",
       "      <td>93</td>\n",
       "    </tr>\n",
       "    <tr>\n",
       "      <th>1</th>\n",
       "      <td>Amy</td>\n",
       "      <td>2000</td>\n",
       "      <td>22</td>\n",
       "      <td>90</td>\n",
       "      <td>100</td>\n",
       "      <td>89</td>\n",
       "    </tr>\n",
       "    <tr>\n",
       "      <th>2</th>\n",
       "      <td>Rosa</td>\n",
       "      <td>2001</td>\n",
       "      <td>21</td>\n",
       "      <td>91</td>\n",
       "      <td>91</td>\n",
       "      <td>99</td>\n",
       "    </tr>\n",
       "    <tr>\n",
       "      <th>4</th>\n",
       "      <td>Gina</td>\n",
       "      <td>1999</td>\n",
       "      <td>23</td>\n",
       "      <td>92</td>\n",
       "      <td>98</td>\n",
       "      <td>94</td>\n",
       "    </tr>\n",
       "    <tr>\n",
       "      <th>6</th>\n",
       "      <td>Hitchcock</td>\n",
       "      <td>2001</td>\n",
       "      <td>21</td>\n",
       "      <td>97</td>\n",
       "      <td>93</td>\n",
       "      <td>90</td>\n",
       "    </tr>\n",
       "  </tbody>\n",
       "</table>\n",
       "</div>"
      ],
      "text/plain": [
       "        Name   YOB  Age  Python  SQL  Statistics\n",
       "0       Jake  2001   21     100   90          93\n",
       "1        Amy  2000   22      90  100          89\n",
       "2       Rosa  2001   21      91   91          99\n",
       "4       Gina  1999   23      92   98          94\n",
       "6  Hitchcock  2001   21      97   93          90"
      ]
     },
     "execution_count": 5,
     "metadata": {},
     "output_type": "execute_result"
    }
   ],
   "source": [
    "df_Age2 = (df['Age'] < 26)\n",
    "df2 = df.loc[df_Age2]\n",
    "df2.head()"
   ]
  },
  {
   "cell_type": "code",
   "execution_count": 6,
   "id": "4f04083a",
   "metadata": {},
   "outputs": [
    {
     "data": {
      "image/png": "[encoded data removed]",
      "text/plain": [
       "<Figure size 432x288 with 1 Axes>"
      ]
     },
     "metadata": {},
     "output_type": "display_data"
    }
   ],
   "source": [
    "df2.groupby(['Name']).sum().plot(kind='pie', y='Python', legend = False)\n",
    "plt.show()"
   ]
  },
  {
   "cell_type": "markdown",
   "id": "caf21c47",
   "metadata": {},
   "source": [
    "# Question 3.) Create a bar plot displaying the name and SQL Marks."
   ]
  },
  {
   "cell_type": "code",
   "execution_count": 7,
   "id": "6ad726dd",
   "metadata": {},
   "outputs": [
    {
     "data": {
      "image/png": "[encoded data removed]",
      "text/plain": [
       "<Figure size 432x288 with 1 Axes>"
      ]
     },
     "metadata": {
      "needs_background": "light"
     },
     "output_type": "display_data"
    }
   ],
   "source": [
    "df.plot.bar(x = 'Name', y = 'SQL', legend = False)\n",
    "plt.show()"
   ]
  },
  {
   "cell_type": "markdown",
   "id": "e0a152c6",
   "metadata": {},
   "source": [
    "# Question 4.) Create a Scatter Plot with respect to SQL Marks and Statistic."
   ]
  },
  {
   "cell_type": "code",
   "execution_count": 8,
   "id": "077b3226",
   "metadata": {},
   "outputs": [
    {
     "data": {
      "image/png": "[encoded data removed]",
      "text/plain": [
       "<Figure size 432x288 with 1 Axes>"
      ]
     },
     "metadata": {
      "needs_background": "light"
     },
     "output_type": "display_data"
    }
   ],
   "source": [
    "df.plot.scatter(x = 'SQL', y = 'Statistics')\n",
    "plt.show()"
   ]
  },
  {
   "cell_type": "markdown",
   "id": "ae561b79",
   "metadata": {},
   "source": [
    "# Question 5.) Display the dates for next 10 days with start date as 22-08-12."
   ]
  },
  {
   "cell_type": "code",
   "execution_count": 9,
   "id": "18508cd4",
   "metadata": {},
   "outputs": [
    {
     "data": {
      "text/plain": [
       "DatetimeIndex(['2022-08-12', '2022-08-13', '2022-08-14', '2022-08-15',\n",
       "               '2022-08-16', '2022-08-17', '2022-08-18', '2022-08-19',\n",
       "               '2022-08-20', '2022-08-21'],\n",
       "              dtype='datetime64[ns]', freq='D')"
      ]
     },
     "execution_count": 9,
     "metadata": {},
     "output_type": "execute_result"
    }
   ],
   "source": [
    "date = pd.date_range(start = '2022-08-12', freq = 'D', periods = 10)\n",
    "date"
   ]
  },
  {
   "cell_type": "code",
   "execution_count": null,
   "id": "066e9c47",
   "metadata": {},
   "outputs": [],
   "source": []
  }
 ],
 "metadata": {
  "kernelspec": {
   "display_name": "Python 3 (ipykernel)",
   "language": "python",
   "name": "python3"
  },
  "language_info": {
   "codemirror_mode": {
    "name": "ipython",
    "version": 3
   },
   "file_extension": ".py",
   "mimetype": "text/x-python",
   "name": "python",
   "nbconvert_exporter": "python",
   "pygments_lexer": "ipython3",
   "version": "3.9.12"
  }
 },
 "nbformat": 4,
 "nbformat_minor": 5
}
